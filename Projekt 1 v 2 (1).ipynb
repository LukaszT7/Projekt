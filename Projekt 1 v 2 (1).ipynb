{
 "cells": [
  {
   "cell_type": "markdown",
   "metadata": {},
   "source": [
    "## Projekt Zaliczeniowy DATABOOTCAMP ING \n",
    "### Łukasz Tyrajski\n",
    "### Temat 1 - przewidywanie cen nieruchomości"
   ]
  },
  {
   "cell_type": "markdown",
   "metadata": {},
   "source": [
    "### 1. Import bibliotek"
   ]
  },
  {
   "cell_type": "code",
   "execution_count": 1,
   "metadata": {},
   "outputs": [],
   "source": [
    "import pandas as pd\n",
    "import numpy as np\n",
    "\n",
    "import matplotlib.pyplot as plt\n",
    "#from matplotlib.pyplot import plot\n",
    "\n",
    "from sklearn.linear_model import LogisticRegression\n",
    "from sklearn.linear_model import LinearRegression\n",
    "from sklearn.model_selection import cross_val_score\n",
    "\n",
    "from sklearn.linear_model import LinearRegression\n",
    "from sklearn.linear_model import Ridge\n",
    "from sklearn.linear_model import Lasso\n",
    "from sklearn.linear_model import ElasticNet\n",
    "from sklearn.metrics import mean_squared_error\n",
    "from sklearn.preprocessing import PolynomialFeatures\n",
    "\n",
    "from sklearn.tree import DecisionTreeClassifier, export_graphviz\n",
    "from sklearn.metrics import accuracy_score\n",
    "from sklearn.feature_selection import SelectFromModel\n",
    "\n",
    "from sklearn.compose import ColumnTransformer\n",
    "from sklearn.pipeline import Pipeline\n",
    "from sklearn.impute import SimpleImputer\n",
    "from sklearn.preprocessing import StandardScaler, OneHotEncoder\n",
    "from sklearn.model_selection import train_test_split, GridSearchCV\n",
    "\n",
    "from sklearn.metrics import r2_score"
   ]
  },
  {
   "cell_type": "markdown",
   "metadata": {},
   "source": [
    "### 2. Wczytanie danych i ich obróbka\n",
    "#### 2.1 wczytanie danych"
   ]
  },
  {
   "cell_type": "code",
   "execution_count": 2,
   "metadata": {},
   "outputs": [],
   "source": [
    "data = pd.read_csv(\"ames2000_NAfix.csv\")"
   ]
  },
  {
   "cell_type": "markdown",
   "metadata": {},
   "source": [
    "####  2.1 Zamiana typów zmiennych o charakterze liczbowym przypisanych do kategorii opisowych"
   ]
  },
  {
   "cell_type": "code",
   "execution_count": 3,
   "metadata": {},
   "outputs": [],
   "source": [
    "# Zamiana typów zmiennych o charakterze liczbowym przypisanych do kategorii opisowych\n",
    "\n",
    "data[[\"Lot.Frontage\"]] = pd.to_numeric(data[\"Lot.Frontage\"], errors='coerce')\n",
    "data[[\"Mas.Vnr.Area\"]] = pd.to_numeric(data[\"Mas.Vnr.Area\"], errors='coerce')\n",
    "data[[\"BsmtFin.SF.1\"]] = pd.to_numeric(data[\"BsmtFin.SF.1\"], errors='coerce')\n",
    "data[[\"BsmtFin.SF.2\"]] = pd.to_numeric(data[\"BsmtFin.SF.2\"], errors='coerce')\n",
    "data[[\"Bsmt.Unf.SF\"]] = pd.to_numeric(data[\"Bsmt.Unf.SF\"], errors='coerce')\n",
    "data[[\"Total.Bsmt.SF\"]] = pd.to_numeric(data[\"Total.Bsmt.SF\"], errors='coerce')\n",
    "data[[\"X1st.Flr.SF\"]] = pd.to_numeric(data[\"X1st.Flr.SF\"], errors='coerce')\n",
    "data[[\"X2nd.Flr.SF\"]] = pd.to_numeric(data[\"X2nd.Flr.SF\"], errors='coerce')\n",
    "data[[\"Low.Qual.Fin.SF\"]] = pd.to_numeric(data[\"Low.Qual.Fin.SF\"], errors='coerce')\n",
    "data[[\"Gr.Liv.Area\"]] = pd.to_numeric(data[\"Gr.Liv.Area\"], errors='coerce')\n",
    "data[[\"Garage.Yr.Blt\"]] = pd.to_numeric(data[\"Garage.Yr.Blt\"], errors='coerce')\n",
    "data[[\"Garage.Area\"]] = pd.to_numeric(data[\"Garage.Area\"], errors='coerce')\n",
    "data[[\"Wood.Deck.SF\"]] = pd.to_numeric(data[\"Wood.Deck.SF\"], errors='coerce')\n"
   ]
  },
  {
   "cell_type": "markdown",
   "metadata": {},
   "source": [
    "#### 2.2 Manualna obróbka wybranych zmiennych kategorycznych na dane liczbowe"
   ]
  },
  {
   "cell_type": "code",
   "execution_count": 4,
   "metadata": {
    "scrolled": false
   },
   "outputs": [],
   "source": [
    "data['Lot.Shape'] = data['Lot.Shape'].replace(['Reg', 'IR1', 'IR2', 'IR3'], [4,3,2,1])\n",
    "data['Utilities'] = data['Utilities'].replace(['AllPub', 'NoSewr', 'NoSeWa', 'ELO'], [4,3,2,1])\n",
    "data['Land.Slope'] = data['Land.Slope'].replace(['Gtl', 'Mod', 'Sev'], [3,2,1])\n",
    "data['Exter.Qual'] = data['Exter.Qual'].replace(['Ex', 'Gd', 'TA', 'Fa', 'Po'], [5,4,3,2,1])\n",
    "data['Exter.Cond'] = data['Exter.Cond'].replace(['Ex', 'Gd', 'TA', 'Fa', 'Po'], [5,4,3,2,1])\n",
    "\n",
    "data['Bsmt.Qual'] = data['Bsmt.Qual'].replace(['Ex', 'Gd', 'TA', 'Fa', 'Po', 'NA'], [6,5,4,3,2,1])\n",
    "data[['Bsmt.Qual']] = pd.to_numeric(data['Bsmt.Qual'], errors='coerce')\n",
    "\n",
    "data['Bsmt.Exposure'] = data['Bsmt.Exposure'].replace(['Gd', 'Mn', 'No', 'NA'], [3,2,1,0])\n",
    "data[['Bsmt.Exposure']] = pd.to_numeric(data['Bsmt.Exposure'], errors='coerce')\n",
    "\n",
    "data['BsmtFin.Type.1'] = data['BsmtFin.Type.1'].replace(['GLQ', 'ALQ', 'BLQ', 'Rec', 'LwQ', 'Unf', 'NA'], [6,5,4,3,2,1,0])\n",
    "data[['BsmtFin.Type.1']] = pd.to_numeric(data['BsmtFin.Type.1'], errors='coerce')\n",
    "\n",
    "data['BsmtFin.Type.2'] = data['BsmtFin.Type.2'].replace(['GLQ', 'ALQ', 'BLQ', 'Rec', 'LwQ', 'Unf', 'NA'], [6,5,4,3,2,1,0])\n",
    "data[['BsmtFin.Type.2']] = pd.to_numeric(data['BsmtFin.Type.2'], errors='coerce')\n",
    "\n",
    "data['Heating.QC'] = data['Heating.QC'].replace(['Ex', 'Gd', 'TA', 'Fa', 'Po'], [5,4,3,2,1])\n",
    "data['Electrical'] = data['Electrical'].replace(['SBrkr', 'FuseA', 'FuseF', 'FuseP', 'Mix'], [ 5,4,3,2,1])\n",
    "data['Kitchen.Qual'] = data['Kitchen.Qual'].replace(['Ex', 'Gd', 'TA', 'Fa', 'Po'], [5,4,3,2,1])\n",
    "data['Functional'] = data['Functional'].replace(['Typ', 'Min1', 'Min2', 'Mod', 'Maj1', 'Maj2', 'Sev', 'Sal'], [7,6,5,4,3,2,1,0])\n",
    "\n",
    "data['Fireplace.Qu'] = data['Fireplace.Qu'].replace(['Ex', 'Gd', 'TA', 'Fa', 'Po', 'NA'], [5,4,3,2,1,0])\n",
    "data[['Fireplace.Qu']] = pd.to_numeric(data['Fireplace.Qu'], errors='coerce')\n",
    "\n",
    "data['Garage.Finish'] = data['Garage.Finish'].replace(['Fin', 'RFn', 'Unf', 'NA'], [3,2,1,0]) \n",
    "data[['Garage.Finish']] = pd.to_numeric(data['Garage.Finish'], errors='coerce')\n",
    "\n",
    "data['Garage.Qual'] = data['Garage.Qual'].replace(['Ex', 'Gd', 'TA', 'Fa', 'Po', 'NA'], [5,4,3,2,1,0])\n",
    "data[['Garage.Qual']] = pd.to_numeric(data['Garage.Qual'], errors='coerce')\n",
    "\n",
    "data['Garage.Cond'] = data['Garage.Cond'].replace(['Ex', 'Gd', 'TA', 'Fa', 'Po', 'NA'], [5,4,3,2,1,0])\n",
    "data[['Garage.Cond']] = pd.to_numeric(data['Garage.Cond'], errors='coerce')\n",
    "\n",
    "data['Paved.Drive'] = data['Paved.Drive'].replace(['Y','P', 'N'], [2,1,0])\n",
    "\n",
    "data['Pool.QC'] = data['Pool.QC'].replace(['Ex', 'Gd', 'TA', 'Fa', 'NA'], [4,3,2,1,0])\n",
    "data[['Pool.QC']] = pd.to_numeric(data['Pool.QC'], errors='coerce')\n",
    "\n",
    "data['Fence'] = data['Fence'].replace(['GdPrv', 'MnPrv', 'GdWo', 'MnWw', 'NA'], [4,3,2,1,0])\n",
    "data[['Fence']] = pd.to_numeric(data['Fence'], errors='coerce')\n"
   ]
  },
  {
   "cell_type": "code",
   "execution_count": 5,
   "metadata": {},
   "outputs": [],
   "source": [
    "# sprawdzenie typów danych"
   ]
  },
  {
   "cell_type": "code",
   "execution_count": 6,
   "metadata": {
    "scrolled": false
   },
   "outputs": [
    {
     "name": "stdout",
     "output_type": "stream",
     "text": [
      "MS.SubClass         int64\n",
      "MS.Zoning          object\n",
      "Lot.Frontage      float64\n",
      "Lot.Area            int64\n",
      "Street             object\n",
      "Alley              object\n",
      "Lot.Shape           int64\n",
      "Land.Contour       object\n",
      "Utilities          object\n",
      "Lot.Config         object\n",
      "Land.Slope          int64\n",
      "Neighborhood       object\n",
      "Condition.1        object\n",
      "Condition.2        object\n",
      "Bldg.Type          object\n",
      "House.Style        object\n",
      "Overall.Qual        int64\n",
      "Overall.Cond        int64\n",
      "Year.Built          int64\n",
      "Year.Remod.Add      int64\n",
      "Roof.Style         object\n",
      "Roof.Matl          object\n",
      "Exterior.1st       object\n",
      "Exterior.2nd       object\n",
      "Mas.Vnr.Type       object\n",
      "Mas.Vnr.Area      float64\n",
      "Exter.Qual         object\n",
      "Exter.Cond         object\n",
      "Foundation         object\n",
      "Bsmt.Qual         float64\n",
      "                   ...   \n",
      "Bedroom.AbvGr       int64\n",
      "Kitchen.AbvGr       int64\n",
      "Kitchen.Qual       object\n",
      "TotRms.AbvGrd       int64\n",
      "Functional         object\n",
      "Fireplaces          int64\n",
      "Fireplace.Qu      float64\n",
      "Garage.Type        object\n",
      "Garage.Yr.Blt     float64\n",
      "Garage.Finish     float64\n",
      "Garage.Cars        object\n",
      "Garage.Area       float64\n",
      "Garage.Qual       float64\n",
      "Garage.Cond       float64\n",
      "Paved.Drive         int64\n",
      "Wood.Deck.SF        int64\n",
      "Open.Porch.SF       int64\n",
      "Enclosed.Porch      int64\n",
      "X3Ssn.Porch         int64\n",
      "Screen.Porch        int64\n",
      "Pool.Area           int64\n",
      "Pool.QC           float64\n",
      "Fence             float64\n",
      "Misc.Feature       object\n",
      "Misc.Val            int64\n",
      "Mo.Sold             int64\n",
      "Yr.Sold             int64\n",
      "Sale.Type          object\n",
      "Sale.Condition     object\n",
      "SalePrice           int64\n",
      "Length: 80, dtype: object\n"
     ]
    }
   ],
   "source": [
    "print(data.dtypes)"
   ]
  },
  {
   "cell_type": "markdown",
   "metadata": {},
   "source": [
    "#### 2.3 Ocena zmiennych korelacji i przydatności - zmienne związae z piwnicą"
   ]
  },
  {
   "cell_type": "code",
   "execution_count": 7,
   "metadata": {},
   "outputs": [
    {
     "data": {
      "image/png": "[encoded data removed]",
      "text/plain": [
       "<Figure size 432x288 with 36 Axes>"
      ]
     },
     "metadata": {
      "needs_background": "light"
     },
     "output_type": "display_data"
    }
   ],
   "source": [
    "from pandas.plotting import scatter_matrix\n",
    "\n",
    "scatter_matrix(data[['BsmtFin.SF.1', 'BsmtFin.SF.2', 'Bsmt.Exposure', 'Bsmt.Qual', \"Total.Bsmt.SF\", \"SalePrice\" ]])\n",
    "\n",
    "plt.rcParams[\"figure.figsize\"] = (40,30)\n",
    "plt.rcParams.update({'font.size': 30})\n",
    "\n",
    "plt.show()\n",
    "\n",
    "# na oko brak jednoznacznej korelacji pomiędzy zmiennymi - nie licząc korelacji zmiennych z Total.Bsmt.SF "
   ]
  },
  {
   "cell_type": "code",
   "execution_count": 8,
   "metadata": {},
   "outputs": [],
   "source": [
    "## Liczenie zer i nan w poszczególnych kolumnach\n",
    "\n",
    "def print_data(data):\n",
    "   for column_name in data.columns:\n",
    "       checked_column = data[str(column_name)].astype(str)\n",
    "       count_zeros = 0\n",
    "       count_nan = 0\n",
    "       for entry in range(checked_column.size):\n",
    "           if checked_column[entry] == 'nan':\n",
    "               count_nan = count_nan + 1\n",
    "           if checked_column[entry] == '0':\n",
    "               count_zeros = count_zeros + 1\n",
    "       nan_percentage = count_nan / data.shape[0] * 100\n",
    "       zeros_percentage = count_zeros / data.shape[0] * 100\n",
    "       print('------------############------------', str(column_name),\n",
    "            '\\nnan:', count_nan, '-->', np.round(nan_percentage, 2), '%',\n",
    "             '\\nZeros:', count_zeros, '-->', np.round(zeros_percentage, 2), '%',\n",
    "             #'\\nUnique:', np.unique(checked_column).shape[0],\n",
    "             #'\\n', np.unique(checked_column), '\\n\\n'\n",
    "            )"
   ]
  },
  {
   "cell_type": "code",
   "execution_count": 9,
   "metadata": {},
   "outputs": [
    {
     "name": "stdout",
     "output_type": "stream",
     "text": [
      "------------############------------ MS.SubClass \n",
      "nan: 0 --> 0.0 % \n",
      "Zeros: 0 --> 0.0 %\n",
      "------------############------------ MS.Zoning \n",
      "nan: 0 --> 0.0 % \n",
      "Zeros: 0 --> 0.0 %\n",
      "------------############------------ Lot.Frontage \n",
      "nan: 334 --> 16.7 % \n",
      "Zeros: 0 --> 0.0 %\n",
      "------------############------------ Lot.Area \n",
      "nan: 0 --> 0.0 % \n",
      "Zeros: 0 --> 0.0 %\n",
      "------------############------------ Street \n",
      "nan: 0 --> 0.0 % \n",
      "Zeros: 0 --> 0.0 %\n",
      "------------############------------ Alley \n",
      "nan: 0 --> 0.0 % \n",
      "Zeros: 0 --> 0.0 %\n",
      "------------############------------ Lot.Shape \n",
      "nan: 0 --> 0.0 % \n",
      "Zeros: 0 --> 0.0 %\n",
      "------------############------------ Land.Contour \n",
      "nan: 0 --> 0.0 % \n",
      "Zeros: 0 --> 0.0 %\n",
      "------------############------------ Utilities \n",
      "nan: 0 --> 0.0 % \n",
      "Zeros: 0 --> 0.0 %\n",
      "------------############------------ Lot.Config \n",
      "nan: 0 --> 0.0 % \n",
      "Zeros: 0 --> 0.0 %\n",
      "------------############------------ Land.Slope \n",
      "nan: 0 --> 0.0 % \n",
      "Zeros: 0 --> 0.0 %\n",
      "------------############------------ Neighborhood \n",
      "nan: 0 --> 0.0 % \n",
      "Zeros: 0 --> 0.0 %\n",
      "------------############------------ Condition.1 \n",
      "nan: 0 --> 0.0 % \n",
      "Zeros: 0 --> 0.0 %\n",
      "------------############------------ Condition.2 \n",
      "nan: 0 --> 0.0 % \n",
      "Zeros: 0 --> 0.0 %\n",
      "------------############------------ Bldg.Type \n",
      "nan: 0 --> 0.0 % \n",
      "Zeros: 0 --> 0.0 %\n",
      "------------############------------ House.Style \n",
      "nan: 0 --> 0.0 % \n",
      "Zeros: 0 --> 0.0 %\n",
      "------------############------------ Overall.Qual \n",
      "nan: 0 --> 0.0 % \n",
      "Zeros: 0 --> 0.0 %\n",
      "------------############------------ Overall.Cond \n",
      "nan: 0 --> 0.0 % \n",
      "Zeros: 0 --> 0.0 %\n",
      "------------############------------ Year.Built \n",
      "nan: 0 --> 0.0 % \n",
      "Zeros: 0 --> 0.0 %\n",
      "------------############------------ Year.Remod.Add \n",
      "nan: 0 --> 0.0 % \n",
      "Zeros: 0 --> 0.0 %\n",
      "------------############------------ Roof.Style \n",
      "nan: 0 --> 0.0 % \n",
      "Zeros: 0 --> 0.0 %\n",
      "------------############------------ Roof.Matl \n",
      "nan: 0 --> 0.0 % \n",
      "Zeros: 0 --> 0.0 %\n",
      "------------############------------ Exterior.1st \n",
      "nan: 0 --> 0.0 % \n",
      "Zeros: 0 --> 0.0 %\n",
      "------------############------------ Exterior.2nd \n",
      "nan: 0 --> 0.0 % \n",
      "Zeros: 0 --> 0.0 %\n",
      "------------############------------ Mas.Vnr.Type \n",
      "nan: 16 --> 0.8 % \n",
      "Zeros: 0 --> 0.0 %\n",
      "------------############------------ Mas.Vnr.Area \n",
      "nan: 16 --> 0.8 % \n",
      "Zeros: 0 --> 0.0 %\n",
      "------------############------------ Exter.Qual \n",
      "nan: 0 --> 0.0 % \n",
      "Zeros: 0 --> 0.0 %\n",
      "------------############------------ Exter.Cond \n",
      "nan: 0 --> 0.0 % \n",
      "Zeros: 0 --> 0.0 %\n",
      "------------############------------ Foundation \n",
      "nan: 0 --> 0.0 % \n",
      "Zeros: 0 --> 0.0 %\n",
      "------------############------------ Bsmt.Qual \n",
      "nan: 53 --> 2.65 % \n",
      "Zeros: 0 --> 0.0 %\n",
      "------------############------------ Bsmt.Cond \n",
      "nan: 1 --> 0.05 % \n",
      "Zeros: 0 --> 0.0 %\n",
      "------------############------------ Bsmt.Exposure \n",
      "nan: 340 --> 17.0 % \n",
      "Zeros: 0 --> 0.0 %\n",
      "------------############------------ BsmtFin.Type.1 \n",
      "nan: 53 --> 2.65 % \n",
      "Zeros: 0 --> 0.0 %\n",
      "------------############------------ BsmtFin.SF.1 \n",
      "nan: 1 --> 0.05 % \n",
      "Zeros: 0 --> 0.0 %\n",
      "------------############------------ BsmtFin.Type.2 \n",
      "nan: 54 --> 2.7 % \n",
      "Zeros: 0 --> 0.0 %\n",
      "------------############------------ BsmtFin.SF.2 \n",
      "nan: 1 --> 0.05 % \n",
      "Zeros: 0 --> 0.0 %\n",
      "------------############------------ Bsmt.Unf.SF \n",
      "nan: 1 --> 0.05 % \n",
      "Zeros: 0 --> 0.0 %\n",
      "------------############------------ Total.Bsmt.SF \n",
      "nan: 1 --> 0.05 % \n",
      "Zeros: 0 --> 0.0 %\n",
      "------------############------------ Heating \n",
      "nan: 0 --> 0.0 % \n",
      "Zeros: 0 --> 0.0 %\n",
      "------------############------------ Heating.QC \n",
      "nan: 0 --> 0.0 % \n",
      "Zeros: 0 --> 0.0 %\n",
      "------------############------------ Central.Air \n",
      "nan: 0 --> 0.0 % \n",
      "Zeros: 0 --> 0.0 %\n",
      "------------############------------ Electrical \n",
      "nan: 0 --> 0.0 % \n",
      "Zeros: 0 --> 0.0 %\n",
      "------------############------------ X1st.Flr.SF \n",
      "nan: 0 --> 0.0 % \n",
      "Zeros: 0 --> 0.0 %\n",
      "------------############------------ X2nd.Flr.SF \n",
      "nan: 0 --> 0.0 % \n",
      "Zeros: 1150 --> 57.5 %\n",
      "------------############------------ Low.Qual.Fin.SF \n",
      "nan: 0 --> 0.0 % \n",
      "Zeros: 1973 --> 98.65 %\n",
      "------------############------------ Gr.Liv.Area \n",
      "nan: 0 --> 0.0 % \n",
      "Zeros: 0 --> 0.0 %\n",
      "------------############------------ Bsmt.Full.Bath \n",
      "nan: 0 --> 0.0 % \n",
      "Zeros: 1154 --> 57.7 %\n",
      "------------############------------ Bsmt.Half.Bath \n",
      "nan: 0 --> 0.0 % \n",
      "Zeros: 1870 --> 93.5 %\n",
      "------------############------------ Full.Bath \n",
      "nan: 0 --> 0.0 % \n",
      "Zeros: 10 --> 0.5 %\n",
      "------------############------------ Half.Bath \n",
      "nan: 0 --> 0.0 % \n",
      "Zeros: 1272 --> 63.6 %\n",
      "------------############------------ Bedroom.AbvGr \n",
      "nan: 0 --> 0.0 % \n",
      "Zeros: 6 --> 0.3 %\n",
      "------------############------------ Kitchen.AbvGr \n",
      "nan: 0 --> 0.0 % \n",
      "Zeros: 3 --> 0.15 %\n",
      "------------############------------ Kitchen.Qual \n",
      "nan: 0 --> 0.0 % \n",
      "Zeros: 0 --> 0.0 %\n",
      "------------############------------ TotRms.AbvGrd \n",
      "nan: 0 --> 0.0 % \n",
      "Zeros: 0 --> 0.0 %\n",
      "------------############------------ Functional \n",
      "nan: 0 --> 0.0 % \n",
      "Zeros: 0 --> 0.0 %\n",
      "------------############------------ Fireplaces \n",
      "nan: 0 --> 0.0 % \n",
      "Zeros: 980 --> 49.0 %\n",
      "------------############------------ Fireplace.Qu \n",
      "nan: 980 --> 49.0 % \n",
      "Zeros: 0 --> 0.0 %\n",
      "------------############------------ Garage.Type \n",
      "nan: 0 --> 0.0 % \n",
      "Zeros: 0 --> 0.0 %\n",
      "------------############------------ Garage.Yr.Blt \n",
      "nan: 112 --> 5.6 % \n",
      "Zeros: 0 --> 0.0 %\n",
      "------------############------------ Garage.Finish \n",
      "nan: 112 --> 5.6 % \n",
      "Zeros: 0 --> 0.0 %\n",
      "------------############------------ Garage.Cars \n",
      "nan: 0 --> 0.0 % \n",
      "Zeros: 110 --> 5.5 %\n",
      "------------############------------ Garage.Area \n",
      "nan: 1 --> 0.05 % \n",
      "Zeros: 0 --> 0.0 %\n",
      "------------############------------ Garage.Qual \n",
      "nan: 112 --> 5.6 % \n",
      "Zeros: 0 --> 0.0 %\n",
      "------------############------------ Garage.Cond \n",
      "nan: 112 --> 5.6 % \n",
      "Zeros: 0 --> 0.0 %\n",
      "------------############------------ Paved.Drive \n",
      "nan: 0 --> 0.0 % \n",
      "Zeros: 145 --> 7.25 %\n",
      "------------############------------ Wood.Deck.SF \n",
      "nan: 0 --> 0.0 % \n",
      "Zeros: 1064 --> 53.2 %\n",
      "------------############------------ Open.Porch.SF \n",
      "nan: 0 --> 0.0 % \n",
      "Zeros: 901 --> 45.05 %\n",
      "------------############------------ Enclosed.Porch \n",
      "nan: 0 --> 0.0 % \n",
      "Zeros: 1678 --> 83.9 %\n",
      "------------############------------ X3Ssn.Porch \n",
      "nan: 0 --> 0.0 % \n",
      "Zeros: 1977 --> 98.85 %\n",
      "------------############------------ Screen.Porch \n",
      "nan: 0 --> 0.0 % \n",
      "Zeros: 1824 --> 91.2 %\n",
      "------------############------------ Pool.Area \n",
      "nan: 0 --> 0.0 % \n",
      "Zeros: 1989 --> 99.45 %\n",
      "------------############------------ Pool.QC \n",
      "nan: 1989 --> 99.45 % \n",
      "Zeros: 0 --> 0.0 %\n",
      "------------############------------ Fence \n",
      "nan: 1605 --> 80.25 % \n",
      "Zeros: 0 --> 0.0 %\n",
      "------------############------------ Misc.Feature \n",
      "nan: 0 --> 0.0 % \n",
      "Zeros: 0 --> 0.0 %\n",
      "------------############------------ Misc.Val \n",
      "nan: 0 --> 0.0 % \n",
      "Zeros: 1928 --> 96.4 %\n",
      "------------############------------ Mo.Sold \n",
      "nan: 0 --> 0.0 % \n",
      "Zeros: 0 --> 0.0 %\n",
      "------------############------------ Yr.Sold \n",
      "nan: 0 --> 0.0 % \n",
      "Zeros: 0 --> 0.0 %\n",
      "------------############------------ Sale.Type \n",
      "nan: 0 --> 0.0 % \n",
      "Zeros: 0 --> 0.0 %\n",
      "------------############------------ Sale.Condition \n",
      "nan: 0 --> 0.0 % \n",
      "Zeros: 0 --> 0.0 %\n",
      "------------############------------ SalePrice \n",
      "nan: 0 --> 0.0 % \n",
      "Zeros: 0 --> 0.0 %\n"
     ]
    }
   ],
   "source": [
    "print_data(data)"
   ]
  },
  {
   "cell_type": "code",
   "execution_count": 10,
   "metadata": {},
   "outputs": [],
   "source": [
    "## ze względu na bardzo dużą liczbę braków danych arbitralnie usuwamy część kolumn\n",
    "\n",
    "data.drop([\n",
    "    \"Low.Qual.Fin.SF\",\n",
    "    \"Bsmt.Full.Bath\",\n",
    "    \"Bsmt.Half.Bath\",\n",
    "    \"Half.Bath\",\n",
    "    \"Enclosed.Porch\",\n",
    "    \"X3Ssn.Porch\",\n",
    "    \"Pool.QC\",\n",
    "    \"Fence\",\n",
    "    \"Misc.Val\",\n",
    "    \"Pool.Area\"\n",
    "], \n",
    "    \n",
    "    axis =1, inplace= True)\n",
    "\n",
    "#Pool.Arenta - zostawiamy gdyż niesie informacje o tym czy jest basen czy też nie ma"
   ]
  },
  {
   "cell_type": "code",
   "execution_count": 11,
   "metadata": {},
   "outputs": [],
   "source": [
    "X = data.loc[:, data.columns != 'SalePrice']\n",
    "y = data[['SalePrice']]"
   ]
  },
  {
   "cell_type": "code",
   "execution_count": 12,
   "metadata": {},
   "outputs": [],
   "source": [
    "## podzaił danych na testowe i na uczące się \n",
    "\n",
    "X_train, X_test, y_train, y_test = train_test_split(X, y, test_size = 600)"
   ]
  },
  {
   "cell_type": "markdown",
   "metadata": {},
   "source": [
    "### Tworzenie klas do zbiorczego oczyszczania danych"
   ]
  },
  {
   "cell_type": "code",
   "execution_count": 13,
   "metadata": {},
   "outputs": [],
   "source": [
    "# Tworzenie klas do zbiorczego oczyszczania danych\n",
    "\n",
    "from sklearn.base import TransformerMixin, BaseEstimator\n",
    "\n",
    "class ColumnsSelector(TransformerMixin, BaseEstimator):\n",
    "    def __init__(self, columns):\n",
    "        self.columns = columns\n",
    "    \n",
    "    def fit(self, X, y = None):\n",
    "        return self\n",
    "    \n",
    "    def transform (self, X):\n",
    "        return X[self.columns]\n",
    "    \n",
    "class ColumnsSelectorByType(TransformerMixin, BaseEstimator):\n",
    "    def __init__(self, col_type):\n",
    "        self.col_type = col_type\n",
    "    \n",
    "    def fit(self, X, y = None):\n",
    "        return self\n",
    "    \n",
    "    def transform (self, X):\n",
    "        return X.select_dtypes(self.col_type)\n",
    "        \n",
    "from sklearn.base import TransformerMixin, BaseEstimator\n",
    "\n",
    "\n",
    "class MissingIndicatorRare(TransformerMixin, BaseEstimator):\n",
    "    def __init__(self, treashold):\n",
    "        self.treashold = treashold\n",
    "    \n",
    "    def fit(self, X, y = None):\n",
    "        self.columns_with_many_nans =\\\n",
    "            np.where(X.isna().sum(0)/X.shape[0] >= self.treashold)[0]\n",
    "        return self\n",
    "    \n",
    "    def transform (self, X):\n",
    "        X_new = X.copy()\n",
    "        X_new.iloc[:,self.columns_with_many_nans]=\\\n",
    "            X.iloc[:, self.columns_with_many_nans].isna()\n",
    "        return X_new"
   ]
  },
  {
   "cell_type": "markdown",
   "metadata": {},
   "source": [
    "### tworzenie pipeline do oczyszczania danych korzystająceg ze stworzonych klas"
   ]
  },
  {
   "cell_type": "code",
   "execution_count": 14,
   "metadata": {},
   "outputs": [],
   "source": [
    "#tworzenie pipeline do oczyszczania danych korzystająceg ze stworzonych klas\n",
    "\n",
    "from sklearn.pipeline import FeatureUnion\n",
    "from sklearn.pipeline import make_pipeline\n",
    "\n",
    "pipeline = FeatureUnion([\n",
    "    (\"branch1\", make_pipeline(ColumnsSelectorByType([np.number]), \n",
    "                             SimpleImputer(strategy = \"mean\"), \n",
    "                             StandardScaler())),\n",
    "    (\"branch2\", make_pipeline(ColumnsSelectorByType(object),\n",
    "                             MissingIndicatorRare(0.4),\n",
    "                             SimpleImputer(strategy = \"most_frequent\"),\n",
    "                             OneHotEncoder(sparse=False, handle_unknown='ignore')))        \n",
    "])"
   ]
  },
  {
   "cell_type": "code",
   "execution_count": null,
   "metadata": {},
   "outputs": [],
   "source": []
  },
  {
   "cell_type": "markdown",
   "metadata": {},
   "source": [
    "### 3.1 Pierwszy model - regresja liniowa"
   ]
  },
  {
   "cell_type": "code",
   "execution_count": 15,
   "metadata": {},
   "outputs": [
    {
     "data": {
      "text/plain": [
       "-1.385708825929493e+19"
      ]
     },
     "execution_count": 15,
     "metadata": {},
     "output_type": "execute_result"
    }
   ],
   "source": [
    "model1 = make_pipeline(pipeline, LinearRegression(copy_X=True, fit_intercept=True, n_jobs=1, normalize=False))\n",
    "model1.fit(X_train, y_train)\n",
    "\n",
    "from sklearn.metrics import r2_score\n",
    "\n",
    "r2_model1 = r2_score(y_test,model1.predict(X_test))\n",
    "r2_model1\n",
    "\n",
    "# Ponieważ zmienna celu jest liczbą to do oceny predykcji modelu używamy np. miary dopasowania R2\n"
   ]
  },
  {
   "cell_type": "markdown",
   "metadata": {},
   "source": [
    "### 3.2 Regresja logistyczna"
   ]
  },
  {
   "cell_type": "code",
   "execution_count": 16,
   "metadata": {},
   "outputs": [
    {
     "name": "stderr",
     "output_type": "stream",
     "text": [
      "/home/spark/miniconda3/lib/python3.7/site-packages/sklearn/linear_model/logistic.py:432: FutureWarning: Default solver will be changed to 'lbfgs' in 0.22. Specify a solver to silence this warning.\n",
      "  FutureWarning)\n",
      "/home/spark/miniconda3/lib/python3.7/site-packages/sklearn/utils/validation.py:724: DataConversionWarning: A column-vector y was passed when a 1d array was expected. Please change the shape of y to (n_samples, ), for example using ravel().\n",
      "  y = column_or_1d(y, warn=True)\n",
      "/home/spark/miniconda3/lib/python3.7/site-packages/sklearn/linear_model/logistic.py:469: FutureWarning: Default multi_class will be changed to 'auto' in 0.22. Specify the multi_class option to silence this warning.\n",
      "  \"this warning.\", FutureWarning)\n",
      "/home/spark/miniconda3/lib/python3.7/site-packages/sklearn/linear_model/logistic.py:432: FutureWarning: Default solver will be changed to 'lbfgs' in 0.22. Specify a solver to silence this warning.\n",
      "  FutureWarning)\n",
      "/home/spark/miniconda3/lib/python3.7/site-packages/sklearn/utils/validation.py:724: DataConversionWarning: A column-vector y was passed when a 1d array was expected. Please change the shape of y to (n_samples, ), for example using ravel().\n",
      "  y = column_or_1d(y, warn=True)\n",
      "/home/spark/miniconda3/lib/python3.7/site-packages/sklearn/linear_model/logistic.py:469: FutureWarning: Default multi_class will be changed to 'auto' in 0.22. Specify the multi_class option to silence this warning.\n",
      "  \"this warning.\", FutureWarning)\n"
     ]
    },
    {
     "data": {
      "text/plain": [
       "0.6507370164583357"
      ]
     },
     "execution_count": 16,
     "metadata": {},
     "output_type": "execute_result"
    }
   ],
   "source": [
    "model2 = make_pipeline(pipeline, SelectFromModel(LogisticRegression(),0.5), LogisticRegression())\n",
    "model2.fit(X_train, y_train)\n",
    "\n",
    "from sklearn.metrics import r2_score\n",
    "\n",
    "\n",
    "\n",
    "r2_model2 = r2_score(y_test,model2.predict(X_test))\n",
    "r2_model2\n",
    "\n",
    "#from sklearn.metrics import explained_variance_score\n",
    "#explained_variance_score(y_test,model2.predict(X_test))\n"
   ]
  },
  {
   "cell_type": "markdown",
   "metadata": {},
   "source": [
    "### 3.3 Model \"Lasso\" rodzaj regresji liniowej "
   ]
  },
  {
   "cell_type": "code",
   "execution_count": 17,
   "metadata": {},
   "outputs": [
    {
     "name": "stderr",
     "output_type": "stream",
     "text": [
      "/home/spark/miniconda3/lib/python3.7/site-packages/sklearn/linear_model/coordinate_descent.py:475: ConvergenceWarning: Objective did not converge. You might want to increase the number of iterations. Duality gap: 50104691544.876526, tolerance: 850561396.9513985\n",
      "  positive)\n"
     ]
    },
    {
     "data": {
      "text/plain": [
       "0.9063514680364035"
      ]
     },
     "execution_count": 17,
     "metadata": {},
     "output_type": "execute_result"
    }
   ],
   "source": [
    "from sklearn.linear_model import Lasso\n",
    "\n",
    "model3 = make_pipeline(pipeline, Lasso(alpha=0.4, fit_intercept=True))\n",
    "model3.fit(X_train, y_train)\n",
    "\n",
    "r2_model3 = r2_score(y_test,model3.predict(X_test))\n",
    "r2_model3\n"
   ]
  },
  {
   "cell_type": "code",
   "execution_count": 18,
   "metadata": {},
   "outputs": [
    {
     "data": {
      "text/plain": [
       "pandas.core.frame.DataFrame"
      ]
     },
     "execution_count": 18,
     "metadata": {},
     "output_type": "execute_result"
    }
   ],
   "source": [
    "xxx =model3.predict(X_test)\n",
    "xxx = pd.DataFrame(xxx)\n",
    "type(xxx)"
   ]
  },
  {
   "cell_type": "code",
   "execution_count": 19,
   "metadata": {},
   "outputs": [
    {
     "data": {
      "image/png": "[encoded data removed]",
      "text/plain": [
       "<Figure size 2880x2160 with 1 Axes>"
      ]
     },
     "metadata": {
      "needs_background": "light"
     },
     "output_type": "display_data"
    }
   ],
   "source": [
    "# Wykres porównujący dane o cenach z predykcją na podstawiu modelu lasso\n",
    "\n",
    "porownanie = y_test.join(xxx.round(2), how = \"inner\")\n",
    "porownanie2 = porownanie.iloc[\n",
    "    :75]\n",
    "\n",
    "porownanie2.columns = ['SalePrice', 'Prediction']\n",
    "porownanie2.plot.bar()\n",
    "\n",
    "plt.show(50)"
   ]
  },
  {
   "cell_type": "code",
   "execution_count": null,
   "metadata": {},
   "outputs": [],
   "source": []
  },
  {
   "cell_type": "code",
   "execution_count": null,
   "metadata": {},
   "outputs": [],
   "source": []
  },
  {
   "cell_type": "markdown",
   "metadata": {},
   "source": [
    "## 3.4 Model Gradient Boosting "
   ]
  },
  {
   "cell_type": "code",
   "execution_count": 20,
   "metadata": {},
   "outputs": [],
   "source": [
    "from sklearn import ensemble\n",
    "clf = ensemble.GradientBoostingRegressor(n_estimators = 400, max_depth = 5, min_samples_split = 2,\n",
    "          learning_rate = 0.2, loss = 'ls')"
   ]
  },
  {
   "cell_type": "code",
   "execution_count": 21,
   "metadata": {},
   "outputs": [
    {
     "name": "stderr",
     "output_type": "stream",
     "text": [
      "/home/spark/miniconda3/lib/python3.7/site-packages/sklearn/ensemble/gradient_boosting.py:1450: DataConversionWarning: A column-vector y was passed when a 1d array was expected. Please change the shape of y to (n_samples, ), for example using ravel().\n",
      "  y = column_or_1d(y, warn=True)\n"
     ]
    },
    {
     "data": {
      "text/plain": [
       "0.9143876077280189"
      ]
     },
     "execution_count": 21,
     "metadata": {},
     "output_type": "execute_result"
    }
   ],
   "source": [
    "model4 = make_pipeline(pipeline, clf)\n",
    "model4.fit(X_train, y_train)\n",
    "\n",
    "r2_model4 = r2_score(y_test,model4.predict(X_test))\n",
    "r2_model4\n",
    "\n"
   ]
  },
  {
   "cell_type": "code",
   "execution_count": null,
   "metadata": {},
   "outputs": [],
   "source": []
  },
  {
   "cell_type": "code",
   "execution_count": 35,
   "metadata": {},
   "outputs": [
    {
     "data": {
      "text/plain": [
       "pandas.core.frame.DataFrame"
      ]
     },
     "execution_count": 35,
     "metadata": {},
     "output_type": "execute_result"
    }
   ],
   "source": [
    "xxx2 =model3.predict(X_test)\n",
    "xxx2 = pd.DataFrame(xxx2)\n",
    "type(xxx2)"
   ]
  },
  {
   "cell_type": "code",
   "execution_count": 36,
   "metadata": {},
   "outputs": [
    {
     "data": {
      "image/png": "[encoded data removed]",
      "text/plain": [
       "<Figure size 2880x2160 with 1 Axes>"
      ]
     },
     "metadata": {
      "needs_background": "light"
     },
     "output_type": "display_data"
    }
   ],
   "source": [
    "porownanie = y_test.join(xxx2.round(2), how = \"inner\")\n",
    "porownanie2 = porownanie.iloc[10:70]\n",
    "porownanie2.columns = ['SalePrice', 'Prediction']\n",
    "\n",
    "porownanie2.plot.bar()\n",
    "plt.show(10)\n"
   ]
  },
  {
   "cell_type": "markdown",
   "metadata": {},
   "source": [
    "## Tabelka DataFrame z porównaniem danych\n"
   ]
  },
  {
   "cell_type": "code",
   "execution_count": 37,
   "metadata": {},
   "outputs": [],
   "source": [
    "wyniki = pd.DataFrame(np.array([[r2_model1, r2_model2, r2_model3,r2_model4]]),\n",
    "...                    columns=['prosta regresja liniowa', 'regresja logistyczna', 'regresja liniowa - metoda Lasso', \n",
    "                                'Gradinet Boosting'],\n",
    "                     index = [\"R2\"])"
   ]
  },
  {
   "cell_type": "code",
   "execution_count": 38,
   "metadata": {},
   "outputs": [
    {
     "data": {
      "text/html": [
       "<div>\n",
       "<style scoped>\n",
       "    .dataframe tbody tr th:only-of-type {\n",
       "        vertical-align: middle;\n",
       "    }\n",
       "\n",
       "    .dataframe tbody tr th {\n",
       "        vertical-align: top;\n",
       "    }\n",
       "\n",
       "    .dataframe thead th {\n",
       "        text-align: right;\n",
       "    }\n",
       "</style>\n",
       "<table border=\"1\" class=\"dataframe\">\n",
       "  <thead>\n",
       "    <tr style=\"text-align: right;\">\n",
       "      <th></th>\n",
       "      <th>prosta regresja liniowa</th>\n",
       "      <th>regresja logistyczna</th>\n",
       "      <th>regresja liniowa - metoda Lasso</th>\n",
       "      <th>Gradinet Boosting</th>\n",
       "    </tr>\n",
       "  </thead>\n",
       "  <tbody>\n",
       "    <tr>\n",
       "      <th>R2</th>\n",
       "      <td>-1.385709e+19</td>\n",
       "      <td>0.650737</td>\n",
       "      <td>0.906351</td>\n",
       "      <td>0.914388</td>\n",
       "    </tr>\n",
       "  </tbody>\n",
       "</table>\n",
       "</div>"
      ],
      "text/plain": [
       "    prosta regresja liniowa  regresja logistyczna  \\\n",
       "R2            -1.385709e+19              0.650737   \n",
       "\n",
       "    regresja liniowa - metoda Lasso  Gradinet Boosting  \n",
       "R2                         0.906351           0.914388  "
      ]
     },
     "execution_count": 38,
     "metadata": {},
     "output_type": "execute_result"
    }
   ],
   "source": [
    "wyniki"
   ]
  },
  {
   "cell_type": "markdown",
   "metadata": {},
   "source": [
    "##### Komentarz: Wyniki dla regresjii linoiwej bardzo słabe - wynika to w znacznej mierze ze zbyt dużej ilości zmiennych; metoda Lasso daje już sobie radę z wczytanym zbiorem danych - mimo realnie ich słabej obróbki ; Grid Search optymalizacja modeli/pipelinów gryzie się z FutureUnion i nie potrafiłem zgrać tych dwóch elementów razem; do Grid Search osobny mały model"
   ]
  },
  {
   "cell_type": "markdown",
   "metadata": {},
   "source": [
    "## 4. Obróbka danych bez użycia Future Union w celu zaprezentowania metody Grid Search"
   ]
  },
  {
   "cell_type": "code",
   "execution_count": 41,
   "metadata": {},
   "outputs": [],
   "source": [
    "data2 = pd.read_csv(\"ames2000_NAfix.csv\")\n",
    "\n",
    "# Zamiana typów zmiennych o charakterze liczbowym przypisanych do kategorii opisowych\n",
    "\n",
    "data2[[\"Lot.Frontage\"]] = pd.to_numeric(data2[\"Lot.Frontage\"], errors='coerce')\n",
    "data2[[\"Mas.Vnr.Area\"]] = pd.to_numeric(data2[\"Mas.Vnr.Area\"], errors='coerce')\n",
    "data2[[\"BsmtFin.SF.1\"]] = pd.to_numeric(data2[\"BsmtFin.SF.1\"], errors='coerce')\n",
    "data2[[\"BsmtFin.SF.2\"]] = pd.to_numeric(data2[\"BsmtFin.SF.2\"], errors='coerce')\n",
    "data2[[\"Bsmt.Unf.SF\"]] = pd.to_numeric(data2[\"Bsmt.Unf.SF\"], errors='coerce')\n",
    "data2[[\"Total.Bsmt.SF\"]] = pd.to_numeric(data2[\"Total.Bsmt.SF\"], errors='coerce')\n",
    "data2[[\"X1st.Flr.SF\"]] = pd.to_numeric(data2[\"X1st.Flr.SF\"], errors='coerce')\n",
    "data2[[\"X2nd.Flr.SF\"]] = pd.to_numeric(data2[\"X2nd.Flr.SF\"], errors='coerce')\n",
    "data2[[\"Low.Qual.Fin.SF\"]] = pd.to_numeric(data2[\"Low.Qual.Fin.SF\"], errors='coerce')\n",
    "data2[[\"Gr.Liv.Area\"]] = pd.to_numeric(data2[\"Gr.Liv.Area\"], errors='coerce')\n",
    "data2[[\"Garage.Yr.Blt\"]] = pd.to_numeric(data2[\"Garage.Yr.Blt\"], errors='coerce')\n",
    "data2[[\"Garage.Area\"]] = pd.to_numeric(data2[\"Garage.Area\"], errors='coerce')\n",
    "data2[[\"Wood.Deck.SF\"]] = pd.to_numeric(data2[\"Wood.Deck.SF\"], errors='coerce')\n",
    "\n",
    "# zamiana zmiennych kategorycznych na słowniki\n",
    "\n",
    "data2['Lot.Shape'] = data2['Lot.Shape'].replace(['Reg', 'IR1', 'IR2', 'IR3'], [4,3,2,1])\n",
    "data2['Utilities'] = data2['Utilities'].replace(['AllPub', 'NoSewr', 'NoSeWa', 'ELO'], [4,3,2,1])\n",
    "data2['Land.Slope'] = data2['Land.Slope'].replace(['Gtl', 'Mod', 'Sev'], [3,2,1])\n",
    "data2['Exter.Qual'] = data2['Exter.Qual'].replace(['Ex', 'Gd', 'TA', 'Fa', 'Po'], [5,4,3,2,1])\n",
    "data2['Exter.Cond'] = data2['Exter.Cond'].replace(['Ex', 'Gd', 'TA', 'Fa', 'Po'], [5,4,3,2,1])\n",
    "\n",
    "data2['Bsmt.Qual'] = data2['Bsmt.Qual'].replace(['Ex', 'Gd', 'TA', 'Fa', 'Po', 'NA'], [6,5,4,3,2,1])\n",
    "data2[['Bsmt.Qual']] = pd.to_numeric(data2['Bsmt.Qual'], errors='coerce')\n",
    "\n",
    "data2['Bsmt.Exposure'] = data2['Bsmt.Exposure'].replace(['Gd', 'Mn', 'No', 'NA'], [3,2,1,0])\n",
    "data2[['Bsmt.Exposure']] = pd.to_numeric(data2['Bsmt.Exposure'], errors='coerce')\n",
    "\n",
    "data2['BsmtFin.Type.1'] = data2['BsmtFin.Type.1'].replace(['GLQ', 'ALQ', 'BLQ', 'Rec', 'LwQ', 'Unf', 'NA'], [6,5,4,3,2,1,0])\n",
    "data2[['BsmtFin.Type.1']] = pd.to_numeric(data2['BsmtFin.Type.1'], errors='coerce')\n",
    "\n",
    "data2['BsmtFin.Type.2'] = data2['BsmtFin.Type.2'].replace(['GLQ', 'ALQ', 'BLQ', 'Rec', 'LwQ', 'Unf', 'NA'], [6,5,4,3,2,1,0])\n",
    "data2[['BsmtFin.Type.2']] = pd.to_numeric(data2['BsmtFin.Type.2'], errors='coerce')\n",
    "\n",
    "data2['Heating.QC'] = data2['Heating.QC'].replace(['Ex', 'Gd', 'TA', 'Fa', 'Po'], [5,4,3,2,1])\n",
    "data2['Electrical'] = data2['Electrical'].replace(['SBrkr', 'FuseA', 'FuseF', 'FuseP', 'Mix'], [ 5,4,3,2,1])\n",
    "data2['Kitchen.Qual'] = data2['Kitchen.Qual'].replace(['Ex', 'Gd', 'TA', 'Fa', 'Po'], [5,4,3,2,1])\n",
    "data2['Functional'] = data2['Functional'].replace(['Typ', 'Min1', 'Min2', 'Mod', 'Maj1', 'Maj2', 'Sev', 'Sal'], [7,6,5,4,3,2,1,0])\n",
    "\n",
    "data2['Fireplace.Qu'] = data2['Fireplace.Qu'].replace(['Ex', 'Gd', 'TA', 'Fa', 'Po', 'NA'], [5,4,3,2,1,0])\n",
    "data2[['Fireplace.Qu']] = pd.to_numeric(data2['Fireplace.Qu'], errors='coerce')\n",
    "\n",
    "data2['Garage.Finish'] = data2['Garage.Finish'].replace(['Fin', 'RFn', 'Unf', 'NA'], [3,2,1,0]) \n",
    "data2[['Garage.Finish']] = pd.to_numeric(data2['Garage.Finish'], errors='coerce')\n",
    "\n",
    "data2['Garage.Qual'] = data2['Garage.Qual'].replace(['Ex', 'Gd', 'TA', 'Fa', 'Po', 'NA'], [5,4,3,2,1,0])\n",
    "data2[['Garage.Qual']] = pd.to_numeric(data2['Garage.Qual'], errors='coerce')\n",
    "\n",
    "data2['Garage.Cond'] = data2['Garage.Cond'].replace(['Ex', 'Gd', 'TA', 'Fa', 'Po', 'NA'], [5,4,3,2,1,0])\n",
    "data2[['Garage.Cond']] = pd.to_numeric(data2['Garage.Cond'], errors='coerce')\n",
    "\n",
    "data2['Paved.Drive'] = data2['Paved.Drive'].replace(['Y','P', 'N'], [2,1,0])\n",
    "\n",
    "data2['Pool.QC'] = data2['Pool.QC'].replace(['Ex', 'Gd', 'TA', 'Fa', 'NA'], [4,3,2,1,0])\n",
    "data2[['Pool.QC']] = pd.to_numeric(data2['Pool.QC'], errors='coerce')\n",
    "\n",
    "data2['Fence'] = data2['Fence'].replace(['GdPrv', 'MnPrv', 'GdWo', 'MnWw', 'NA'], [4,3,2,1,0])\n",
    "data2[['Fence']] = pd.to_numeric(data2['Fence'], errors='coerce')\n",
    "\n",
    "\n",
    "# tworzenie zmiennych zero jedynkowych dla zmiennych kategorycznych + usuwanie orginalnych zmiennych - \n",
    "# ponieważ znamy dokładnw słowniki danych to uprawniona jest zamiana zmiennych kategorycznych przed podziałem na dane treningowe i testowe\n",
    "\n",
    "pd.concat([pd.get_dummies(data=data2, columns=[\"Street\", \n",
    "                                               \"MS.Zoning\",\n",
    "                                               \"Alley\",\n",
    "                                               \"Lot.Shape\",\n",
    "                                               \"Land.Contour\",\n",
    "                                               \"Utilities\",\n",
    "                                               \"Lot.Config\",\n",
    "                                               \"Land.Slope\",\n",
    "                                               \"Neighborhood\",\n",
    "                                               \"Condition.1\", \n",
    "                                               \"Condition.2\",\n",
    "                                               \"Bldg.Type\",\n",
    "                                               \"House.Style\",\n",
    "                                               \"Roof.Style\",\n",
    "                                               \"Roof.Matl\",\n",
    "                                               \"Mas.Vnr.Type\",\n",
    "                                               \"Exter.Qual\",\n",
    "                                               \"Exter.Cond\",\n",
    "                                               \"Foundation\",\n",
    "                                               \"Bsmt.Qual\",\n",
    "                                               \"Bsmt.Cond\",\n",
    "                                               \"Bsmt.Exposure\",\n",
    "                                               \"BsmtFin.Type.1\",\n",
    "                                               \"Kitchen.Qual\",\n",
    "                                               \"Functional\",\n",
    "                                               \"Fireplace.Qu\",\n",
    "                                               \"Garage.Type\",\n",
    "                                               \"Garage.Finish\",\n",
    "                                               \"Garage.Cars\",\n",
    "                                               \"Garage.Qual\",\n",
    "                                               \"Garage.Cond\",\n",
    "                                               \"Paved.Drive\",\n",
    "                                               \"Pool.QC\",\n",
    "                                               \"Fence\", \n",
    "                                               \"Misc.Feature\",\n",
    "                                               \"Sale.Type\",\n",
    "                                               \"Sale.Condition\",\n",
    "                                               \"Exterior.1st\",\n",
    "                                               \"Exterior.2nd\",\n",
    "                                               \"BsmtFin.Type.2\",\n",
    "                                               \"Heating\",\n",
    "                                               \"Heating.QC\",\n",
    "                                               \"Central.Air\",\n",
    "                                               \"Electrical\",\n",
    "                                               \"Bsmt.Full.Bath\",\n",
    "                                               \"Bsmt.Half.Bath\",\n",
    "                                              \n",
    "                                              \n",
    "                                              ])], axis=1, keys=data2.columns)\n",
    "\n",
    "\n",
    "\n",
    "\n",
    "\n",
    "\n",
    "\n",
    "data2.drop([\"Street\", \n",
    "                                               \"MS.Zoning\",\n",
    "                                               \"Alley\",\n",
    "                                               \"Lot.Shape\",\n",
    "                                               \"Land.Contour\",\n",
    "                                               \"Utilities\",\n",
    "                                               \"Lot.Config\",\n",
    "                                               \"Land.Slope\",\n",
    "                                               \"Neighborhood\",\n",
    "                                               \"Condition.1\", \n",
    "                                               \"Condition.2\",\n",
    "                                               \"Bldg.Type\",\n",
    "                                               \"House.Style\",\n",
    "                                               \"Roof.Style\",\n",
    "                                               \"Roof.Matl\",\n",
    "                                               \"Mas.Vnr.Type\",\n",
    "                                               \"Exter.Qual\",\n",
    "                                               \"Exter.Cond\",\n",
    "                                               \"Foundation\",\n",
    "                                               \"Bsmt.Qual\",\n",
    "                                               \"Bsmt.Cond\",\n",
    "                                               \"Bsmt.Exposure\",\n",
    "                                               \"BsmtFin.Type.1\",\n",
    "                                               \"Kitchen.Qual\",\n",
    "                                               \"Functional\",\n",
    "                                               \"Fireplace.Qu\",\n",
    "                                               \"Garage.Type\",\n",
    "                                               \"Garage.Finish\",\n",
    "                                               \"Garage.Cars\",\n",
    "                                               \"Garage.Qual\",\n",
    "                                               \"Garage.Cond\",\n",
    "                                               \"Paved.Drive\",\n",
    "                                               \"Pool.QC\",\n",
    "                                               \"Fence\", \n",
    "                                               \"Misc.Feature\",\n",
    "                                               \"Sale.Type\",\n",
    "                                               \"Sale.Condition\",\n",
    "                                               \"Exterior.1st\",\n",
    "                                               \"Exterior.2nd\",\n",
    "                                               \"BsmtFin.Type.2\",\n",
    "                                               \"Heating\",\n",
    "                                               \"Heating.QC\",\n",
    "                                               \"Central.Air\",\n",
    "                                               \"Electrical\",\n",
    "                                               \"Bsmt.Full.Bath\",\n",
    "                                               \"Bsmt.Half.Bath\",\n",
    "            \n",
    "            \n",
    "            ],  \n",
    "    axis=1, inplace=True)\n"
   ]
  },
  {
   "cell_type": "code",
   "execution_count": 26,
   "metadata": {},
   "outputs": [],
   "source": [
    "#enc = OneHotEncoder(handle_unknown='ignore', categorical_features=[0], sparse=False)\n",
    "#enc.fit(data2)\n",
    "#enc.transform(data2One)"
   ]
  },
  {
   "cell_type": "code",
   "execution_count": 42,
   "metadata": {},
   "outputs": [],
   "source": [
    "X2 = data2.loc[:, data2.columns != 'SalePrice']\n",
    "y2 = data2[['SalePrice']]\n"
   ]
  },
  {
   "cell_type": "code",
   "execution_count": 43,
   "metadata": {},
   "outputs": [],
   "source": [
    "# Podział danyxh na część testową i uczącą się  \n",
    "\n",
    "\n",
    "X_train2, X_test2, y_train2, y_test2 = train_test_split(X2, y2, test_size = 600)\n"
   ]
  },
  {
   "cell_type": "code",
   "execution_count": 44,
   "metadata": {},
   "outputs": [
    {
     "name": "stderr",
     "output_type": "stream",
     "text": [
      "/home/spark/miniconda3/lib/python3.7/site-packages/pandas/core/generic.py:6130: SettingWithCopyWarning: \n",
      "A value is trying to be set on a copy of a slice from a DataFrame\n",
      "\n",
      "See the caveats in the documentation: http://pandas.pydata.org/pandas-docs/stable/indexing.html#indexing-view-versus-copy\n",
      "  self._update_inplace(new_data)\n"
     ]
    }
   ],
   "source": [
    "# uzupełnienie braków dla danych treningowych\n",
    "\n",
    "X_train2['MS.SubClass'].fillna((X_train2['MS.SubClass'].mean()), inplace=True)\n",
    "X_train2['Lot.Frontage'].fillna((X_train2['Lot.Frontage'].mean()), inplace=True)\n",
    "X_train2['Lot.Area'].fillna((X_train2['Lot.Area'].mean()), inplace=True)\n",
    "X_train2['Overall.Qual'].fillna((X_train2['Overall.Qual'].mean()), inplace=True)\n",
    "X_train2['Overall.Cond'].fillna((X_train2['Overall.Cond'].mean()), inplace=True)\n",
    "X_train2['Year.Built'].fillna((X_train2['Year.Built'].mean()), inplace=True)\n",
    "\n",
    "X_train2['Year.Remod.Add'].fillna((X_train2['Year.Remod.Add'].mean()), inplace=True)\n",
    "X_train2['Mas.Vnr.Area'].fillna((X_train2['Mas.Vnr.Area'].mean()), inplace=True)\n",
    "X_train2['BsmtFin.SF.1'].fillna((X_train2['BsmtFin.SF.1'].mean()), inplace=True)\n",
    "X_train2['BsmtFin.SF.2'].fillna((X_train2['BsmtFin.SF.2'].mean()), inplace=True)\n",
    "\n",
    "X_train2['Bsmt.Unf.SF'].fillna((X_train2['Bsmt.Unf.SF'].mean()), inplace=True)\n",
    "X_train2['Total.Bsmt.SF'].fillna((X_train2['Total.Bsmt.SF'].mean()), inplace=True)\n",
    "X_train2['X1st.Flr.SF'].fillna((X_train2['X1st.Flr.SF'].mean()), inplace=True)\n",
    "X_train2['X2nd.Flr.SF'].fillna((X_train2['X2nd.Flr.SF'].mean()), inplace=True)\n",
    "\n",
    "X_train2['Low.Qual.Fin.SF'].fillna((X_train2['Low.Qual.Fin.SF'].mean()), inplace=True)\n",
    "X_train2['Gr.Liv.Area'].fillna((X_train2['Gr.Liv.Area'].mean()), inplace=True)\n",
    "X_train2['Full.Bath'].fillna((X_train2['Full.Bath'].mean()), inplace=True)\n",
    "X_train2['Half.Bath'].fillna((X_train2['Half.Bath'].mean()), inplace=True)\n",
    "\n",
    "X_train2['Bedroom.AbvGr'].fillna((X_train2['Bedroom.AbvGr'].mean()), inplace=True)\n",
    "X_train2['Kitchen.AbvGr'].fillna((X_train2['Kitchen.AbvGr'].mean()), inplace=True)\n",
    "X_train2['TotRms.AbvGrd'].fillna((X_train2['TotRms.AbvGrd'].mean()), inplace=True)\n",
    "X_train2['Fireplaces'].fillna((X_train2['Fireplaces'].mean()), inplace=True)\n",
    "\n",
    "X_train2['Garage.Yr.Blt'].fillna((X_train2['Garage.Yr.Blt'].mean()), inplace=True)\n",
    "X_train2['Garage.Area'].fillna((X_train2['Garage.Area'].mean()), inplace=True)\n",
    "X_train2['Wood.Deck.SF'].fillna((X_train2['Wood.Deck.SF'].mean()), inplace=True)\n",
    "X_train2['Open.Porch.SF'].fillna((X_train2['Open.Porch.SF'].mean()), inplace=True)\n",
    "\n",
    "X_train2['Enclosed.Porch'].fillna((X_train2['Enclosed.Porch'].mean()), inplace=True)\n",
    "X_train2['X3Ssn.Porch'].fillna((X_train2['X3Ssn.Porch'].mean()), inplace=True)\n",
    "X_train2['Screen.Porch'].fillna((X_train2['Screen.Porch'].mean()), inplace=True)\n",
    "X_train2['Pool.Area'].fillna((X_train2['Pool.Area'].mean()), inplace=True)\n",
    "\n",
    "X_train2['Misc.Val'].fillna((X_train2['Misc.Val'].mean()), inplace=True)\n",
    "X_train2['Mo.Sold'].fillna((X_train2['Mo.Sold'].mean()), inplace=True)\n",
    "X_train2['Yr.Sold'].fillna((X_train2['Yr.Sold'].mean()), inplace=True)\n",
    "\n",
    "#skalowanie danych\n",
    "\n",
    "scaler = StandardScaler()\n",
    "X_train2 = scaler.fit_transform(X_train2)"
   ]
  },
  {
   "cell_type": "code",
   "execution_count": 45,
   "metadata": {},
   "outputs": [
    {
     "name": "stdout",
     "output_type": "stream",
     "text": [
      "MS.SubClass          int64\n",
      "Lot.Frontage       float64\n",
      "Lot.Area             int64\n",
      "Overall.Qual         int64\n",
      "Overall.Cond         int64\n",
      "Year.Built           int64\n",
      "Year.Remod.Add       int64\n",
      "Mas.Vnr.Area       float64\n",
      "BsmtFin.SF.1       float64\n",
      "BsmtFin.SF.2       float64\n",
      "Bsmt.Unf.SF        float64\n",
      "Total.Bsmt.SF      float64\n",
      "X1st.Flr.SF          int64\n",
      "X2nd.Flr.SF          int64\n",
      "Low.Qual.Fin.SF      int64\n",
      "Gr.Liv.Area          int64\n",
      "Full.Bath            int64\n",
      "Half.Bath            int64\n",
      "Bedroom.AbvGr        int64\n",
      "Kitchen.AbvGr        int64\n",
      "TotRms.AbvGrd        int64\n",
      "Fireplaces           int64\n",
      "Garage.Yr.Blt      float64\n",
      "Garage.Area        float64\n",
      "Wood.Deck.SF         int64\n",
      "Open.Porch.SF        int64\n",
      "Enclosed.Porch       int64\n",
      "X3Ssn.Porch          int64\n",
      "Screen.Porch         int64\n",
      "Pool.Area            int64\n",
      "Misc.Val             int64\n",
      "Mo.Sold              int64\n",
      "Yr.Sold              int64\n",
      "SalePrice            int64\n",
      "dtype: object\n"
     ]
    }
   ],
   "source": [
    "print(data2.dtypes)"
   ]
  },
  {
   "cell_type": "code",
   "execution_count": 72,
   "metadata": {},
   "outputs": [
    {
     "name": "stderr",
     "output_type": "stream",
     "text": [
      "/home/spark/miniconda3/lib/python3.7/site-packages/sklearn/model_selection/_split.py:1978: FutureWarning: The default value of cv will change from 3 to 5 in version 0.22. Specify it explicitly to silence this warning.\n",
      "  warnings.warn(CV_WARNING, FutureWarning)\n",
      "/home/spark/miniconda3/lib/python3.7/site-packages/sklearn/linear_model/logistic.py:432: FutureWarning: Default solver will be changed to 'lbfgs' in 0.22. Specify a solver to silence this warning.\n",
      "  FutureWarning)\n",
      "/home/spark/miniconda3/lib/python3.7/site-packages/sklearn/utils/validation.py:724: DataConversionWarning: A column-vector y was passed when a 1d array was expected. Please change the shape of y to (n_samples, ), for example using ravel().\n",
      "  y = column_or_1d(y, warn=True)\n",
      "/home/spark/miniconda3/lib/python3.7/site-packages/sklearn/linear_model/logistic.py:469: FutureWarning: Default multi_class will be changed to 'auto' in 0.22. Specify the multi_class option to silence this warning.\n",
      "  \"this warning.\", FutureWarning)\n",
      "/home/spark/miniconda3/lib/python3.7/site-packages/sklearn/linear_model/logistic.py:432: FutureWarning: Default solver will be changed to 'lbfgs' in 0.22. Specify a solver to silence this warning.\n",
      "  FutureWarning)\n",
      "/home/spark/miniconda3/lib/python3.7/site-packages/sklearn/utils/validation.py:724: DataConversionWarning: A column-vector y was passed when a 1d array was expected. Please change the shape of y to (n_samples, ), for example using ravel().\n",
      "  y = column_or_1d(y, warn=True)\n",
      "/home/spark/miniconda3/lib/python3.7/site-packages/sklearn/linear_model/logistic.py:469: FutureWarning: Default multi_class will be changed to 'auto' in 0.22. Specify the multi_class option to silence this warning.\n",
      "  \"this warning.\", FutureWarning)\n",
      "/home/spark/miniconda3/lib/python3.7/site-packages/sklearn/linear_model/coordinate_descent.py:475: ConvergenceWarning: Objective did not converge. You might want to increase the number of iterations. Duality gap: 1271530820.9398193, tolerance: 558365664.8745794\n",
      "  positive)\n",
      "/home/spark/miniconda3/lib/python3.7/site-packages/sklearn/linear_model/logistic.py:432: FutureWarning: Default solver will be changed to 'lbfgs' in 0.22. Specify a solver to silence this warning.\n",
      "  FutureWarning)\n",
      "/home/spark/miniconda3/lib/python3.7/site-packages/sklearn/utils/validation.py:724: DataConversionWarning: A column-vector y was passed when a 1d array was expected. Please change the shape of y to (n_samples, ), for example using ravel().\n",
      "  y = column_or_1d(y, warn=True)\n",
      "/home/spark/miniconda3/lib/python3.7/site-packages/sklearn/linear_model/logistic.py:469: FutureWarning: Default multi_class will be changed to 'auto' in 0.22. Specify the multi_class option to silence this warning.\n",
      "  \"this warning.\", FutureWarning)\n",
      "/home/spark/miniconda3/lib/python3.7/site-packages/sklearn/linear_model/logistic.py:432: FutureWarning: Default solver will be changed to 'lbfgs' in 0.22. Specify a solver to silence this warning.\n",
      "  FutureWarning)\n",
      "/home/spark/miniconda3/lib/python3.7/site-packages/sklearn/utils/validation.py:724: DataConversionWarning: A column-vector y was passed when a 1d array was expected. Please change the shape of y to (n_samples, ), for example using ravel().\n",
      "  y = column_or_1d(y, warn=True)\n",
      "/home/spark/miniconda3/lib/python3.7/site-packages/sklearn/linear_model/logistic.py:469: FutureWarning: Default multi_class will be changed to 'auto' in 0.22. Specify the multi_class option to silence this warning.\n",
      "  \"this warning.\", FutureWarning)\n",
      "/home/spark/miniconda3/lib/python3.7/site-packages/sklearn/linear_model/logistic.py:432: FutureWarning: Default solver will be changed to 'lbfgs' in 0.22. Specify a solver to silence this warning.\n",
      "  FutureWarning)\n",
      "/home/spark/miniconda3/lib/python3.7/site-packages/sklearn/utils/validation.py:724: DataConversionWarning: A column-vector y was passed when a 1d array was expected. Please change the shape of y to (n_samples, ), for example using ravel().\n",
      "  y = column_or_1d(y, warn=True)\n",
      "/home/spark/miniconda3/lib/python3.7/site-packages/sklearn/linear_model/logistic.py:469: FutureWarning: Default multi_class will be changed to 'auto' in 0.22. Specify the multi_class option to silence this warning.\n",
      "  \"this warning.\", FutureWarning)\n",
      "/home/spark/miniconda3/lib/python3.7/site-packages/sklearn/linear_model/coordinate_descent.py:475: ConvergenceWarning: Objective did not converge. You might want to increase the number of iterations. Duality gap: 1271530820.9398193, tolerance: 558365664.8745794\n",
      "  positive)\n",
      "/home/spark/miniconda3/lib/python3.7/site-packages/sklearn/linear_model/logistic.py:432: FutureWarning: Default solver will be changed to 'lbfgs' in 0.22. Specify a solver to silence this warning.\n",
      "  FutureWarning)\n",
      "/home/spark/miniconda3/lib/python3.7/site-packages/sklearn/utils/validation.py:724: DataConversionWarning: A column-vector y was passed when a 1d array was expected. Please change the shape of y to (n_samples, ), for example using ravel().\n",
      "  y = column_or_1d(y, warn=True)\n",
      "/home/spark/miniconda3/lib/python3.7/site-packages/sklearn/linear_model/logistic.py:469: FutureWarning: Default multi_class will be changed to 'auto' in 0.22. Specify the multi_class option to silence this warning.\n",
      "  \"this warning.\", FutureWarning)\n",
      "/home/spark/miniconda3/lib/python3.7/site-packages/sklearn/linear_model/logistic.py:432: FutureWarning: Default solver will be changed to 'lbfgs' in 0.22. Specify a solver to silence this warning.\n",
      "  FutureWarning)\n",
      "/home/spark/miniconda3/lib/python3.7/site-packages/sklearn/utils/validation.py:724: DataConversionWarning: A column-vector y was passed when a 1d array was expected. Please change the shape of y to (n_samples, ), for example using ravel().\n",
      "  y = column_or_1d(y, warn=True)\n",
      "/home/spark/miniconda3/lib/python3.7/site-packages/sklearn/linear_model/logistic.py:469: FutureWarning: Default multi_class will be changed to 'auto' in 0.22. Specify the multi_class option to silence this warning.\n",
      "  \"this warning.\", FutureWarning)\n",
      "/home/spark/miniconda3/lib/python3.7/site-packages/sklearn/linear_model/logistic.py:432: FutureWarning: Default solver will be changed to 'lbfgs' in 0.22. Specify a solver to silence this warning.\n",
      "  FutureWarning)\n",
      "/home/spark/miniconda3/lib/python3.7/site-packages/sklearn/utils/validation.py:724: DataConversionWarning: A column-vector y was passed when a 1d array was expected. Please change the shape of y to (n_samples, ), for example using ravel().\n",
      "  y = column_or_1d(y, warn=True)\n",
      "/home/spark/miniconda3/lib/python3.7/site-packages/sklearn/linear_model/logistic.py:469: FutureWarning: Default multi_class will be changed to 'auto' in 0.22. Specify the multi_class option to silence this warning.\n",
      "  \"this warning.\", FutureWarning)\n",
      "/home/spark/miniconda3/lib/python3.7/site-packages/sklearn/linear_model/coordinate_descent.py:475: ConvergenceWarning: Objective did not converge. You might want to increase the number of iterations. Duality gap: 1271530820.9398193, tolerance: 558365664.8745794\n",
      "  positive)\n",
      "/home/spark/miniconda3/lib/python3.7/site-packages/sklearn/linear_model/logistic.py:432: FutureWarning: Default solver will be changed to 'lbfgs' in 0.22. Specify a solver to silence this warning.\n",
      "  FutureWarning)\n",
      "/home/spark/miniconda3/lib/python3.7/site-packages/sklearn/utils/validation.py:724: DataConversionWarning: A column-vector y was passed when a 1d array was expected. Please change the shape of y to (n_samples, ), for example using ravel().\n",
      "  y = column_or_1d(y, warn=True)\n",
      "/home/spark/miniconda3/lib/python3.7/site-packages/sklearn/linear_model/logistic.py:469: FutureWarning: Default multi_class will be changed to 'auto' in 0.22. Specify the multi_class option to silence this warning.\n",
      "  \"this warning.\", FutureWarning)\n",
      "/home/spark/miniconda3/lib/python3.7/site-packages/sklearn/linear_model/logistic.py:432: FutureWarning: Default solver will be changed to 'lbfgs' in 0.22. Specify a solver to silence this warning.\n",
      "  FutureWarning)\n",
      "/home/spark/miniconda3/lib/python3.7/site-packages/sklearn/utils/validation.py:724: DataConversionWarning: A column-vector y was passed when a 1d array was expected. Please change the shape of y to (n_samples, ), for example using ravel().\n",
      "  y = column_or_1d(y, warn=True)\n",
      "/home/spark/miniconda3/lib/python3.7/site-packages/sklearn/linear_model/logistic.py:469: FutureWarning: Default multi_class will be changed to 'auto' in 0.22. Specify the multi_class option to silence this warning.\n",
      "  \"this warning.\", FutureWarning)\n"
     ]
    },
    {
     "name": "stderr",
     "output_type": "stream",
     "text": [
      "/home/spark/miniconda3/lib/python3.7/site-packages/sklearn/linear_model/logistic.py:432: FutureWarning: Default solver will be changed to 'lbfgs' in 0.22. Specify a solver to silence this warning.\n",
      "  FutureWarning)\n",
      "/home/spark/miniconda3/lib/python3.7/site-packages/sklearn/utils/validation.py:724: DataConversionWarning: A column-vector y was passed when a 1d array was expected. Please change the shape of y to (n_samples, ), for example using ravel().\n",
      "  y = column_or_1d(y, warn=True)\n",
      "/home/spark/miniconda3/lib/python3.7/site-packages/sklearn/linear_model/logistic.py:469: FutureWarning: Default multi_class will be changed to 'auto' in 0.22. Specify the multi_class option to silence this warning.\n",
      "  \"this warning.\", FutureWarning)\n",
      "/home/spark/miniconda3/lib/python3.7/site-packages/sklearn/linear_model/coordinate_descent.py:475: ConvergenceWarning: Objective did not converge. You might want to increase the number of iterations. Duality gap: 1271530820.9398193, tolerance: 558365664.8745794\n",
      "  positive)\n",
      "/home/spark/miniconda3/lib/python3.7/site-packages/sklearn/linear_model/logistic.py:432: FutureWarning: Default solver will be changed to 'lbfgs' in 0.22. Specify a solver to silence this warning.\n",
      "  FutureWarning)\n",
      "/home/spark/miniconda3/lib/python3.7/site-packages/sklearn/utils/validation.py:724: DataConversionWarning: A column-vector y was passed when a 1d array was expected. Please change the shape of y to (n_samples, ), for example using ravel().\n",
      "  y = column_or_1d(y, warn=True)\n",
      "/home/spark/miniconda3/lib/python3.7/site-packages/sklearn/linear_model/logistic.py:469: FutureWarning: Default multi_class will be changed to 'auto' in 0.22. Specify the multi_class option to silence this warning.\n",
      "  \"this warning.\", FutureWarning)\n",
      "/home/spark/miniconda3/lib/python3.7/site-packages/sklearn/linear_model/logistic.py:432: FutureWarning: Default solver will be changed to 'lbfgs' in 0.22. Specify a solver to silence this warning.\n",
      "  FutureWarning)\n",
      "/home/spark/miniconda3/lib/python3.7/site-packages/sklearn/utils/validation.py:724: DataConversionWarning: A column-vector y was passed when a 1d array was expected. Please change the shape of y to (n_samples, ), for example using ravel().\n",
      "  y = column_or_1d(y, warn=True)\n",
      "/home/spark/miniconda3/lib/python3.7/site-packages/sklearn/linear_model/logistic.py:469: FutureWarning: Default multi_class will be changed to 'auto' in 0.22. Specify the multi_class option to silence this warning.\n",
      "  \"this warning.\", FutureWarning)\n",
      "/home/spark/miniconda3/lib/python3.7/site-packages/sklearn/linear_model/logistic.py:432: FutureWarning: Default solver will be changed to 'lbfgs' in 0.22. Specify a solver to silence this warning.\n",
      "  FutureWarning)\n",
      "/home/spark/miniconda3/lib/python3.7/site-packages/sklearn/utils/validation.py:724: DataConversionWarning: A column-vector y was passed when a 1d array was expected. Please change the shape of y to (n_samples, ), for example using ravel().\n",
      "  y = column_or_1d(y, warn=True)\n",
      "/home/spark/miniconda3/lib/python3.7/site-packages/sklearn/linear_model/logistic.py:469: FutureWarning: Default multi_class will be changed to 'auto' in 0.22. Specify the multi_class option to silence this warning.\n",
      "  \"this warning.\", FutureWarning)\n",
      "/home/spark/miniconda3/lib/python3.7/site-packages/sklearn/linear_model/coordinate_descent.py:475: ConvergenceWarning: Objective did not converge. You might want to increase the number of iterations. Duality gap: 1271530820.9398193, tolerance: 558365664.8745794\n",
      "  positive)\n",
      "/home/spark/miniconda3/lib/python3.7/site-packages/sklearn/linear_model/logistic.py:432: FutureWarning: Default solver will be changed to 'lbfgs' in 0.22. Specify a solver to silence this warning.\n",
      "  FutureWarning)\n",
      "/home/spark/miniconda3/lib/python3.7/site-packages/sklearn/utils/validation.py:724: DataConversionWarning: A column-vector y was passed when a 1d array was expected. Please change the shape of y to (n_samples, ), for example using ravel().\n",
      "  y = column_or_1d(y, warn=True)\n",
      "/home/spark/miniconda3/lib/python3.7/site-packages/sklearn/linear_model/logistic.py:469: FutureWarning: Default multi_class will be changed to 'auto' in 0.22. Specify the multi_class option to silence this warning.\n",
      "  \"this warning.\", FutureWarning)\n",
      "/home/spark/miniconda3/lib/python3.7/site-packages/sklearn/linear_model/logistic.py:432: FutureWarning: Default solver will be changed to 'lbfgs' in 0.22. Specify a solver to silence this warning.\n",
      "  FutureWarning)\n",
      "/home/spark/miniconda3/lib/python3.7/site-packages/sklearn/utils/validation.py:724: DataConversionWarning: A column-vector y was passed when a 1d array was expected. Please change the shape of y to (n_samples, ), for example using ravel().\n",
      "  y = column_or_1d(y, warn=True)\n",
      "/home/spark/miniconda3/lib/python3.7/site-packages/sklearn/linear_model/logistic.py:469: FutureWarning: Default multi_class will be changed to 'auto' in 0.22. Specify the multi_class option to silence this warning.\n",
      "  \"this warning.\", FutureWarning)\n",
      "/home/spark/miniconda3/lib/python3.7/site-packages/sklearn/linear_model/logistic.py:432: FutureWarning: Default solver will be changed to 'lbfgs' in 0.22. Specify a solver to silence this warning.\n",
      "  FutureWarning)\n",
      "/home/spark/miniconda3/lib/python3.7/site-packages/sklearn/utils/validation.py:724: DataConversionWarning: A column-vector y was passed when a 1d array was expected. Please change the shape of y to (n_samples, ), for example using ravel().\n",
      "  y = column_or_1d(y, warn=True)\n",
      "/home/spark/miniconda3/lib/python3.7/site-packages/sklearn/linear_model/logistic.py:469: FutureWarning: Default multi_class will be changed to 'auto' in 0.22. Specify the multi_class option to silence this warning.\n",
      "  \"this warning.\", FutureWarning)\n",
      "/home/spark/miniconda3/lib/python3.7/site-packages/sklearn/linear_model/coordinate_descent.py:475: ConvergenceWarning: Objective did not converge. You might want to increase the number of iterations. Duality gap: 1271530820.9398193, tolerance: 558365664.8745794\n",
      "  positive)\n",
      "/home/spark/miniconda3/lib/python3.7/site-packages/sklearn/linear_model/logistic.py:432: FutureWarning: Default solver will be changed to 'lbfgs' in 0.22. Specify a solver to silence this warning.\n",
      "  FutureWarning)\n",
      "/home/spark/miniconda3/lib/python3.7/site-packages/sklearn/utils/validation.py:724: DataConversionWarning: A column-vector y was passed when a 1d array was expected. Please change the shape of y to (n_samples, ), for example using ravel().\n",
      "  y = column_or_1d(y, warn=True)\n",
      "/home/spark/miniconda3/lib/python3.7/site-packages/sklearn/linear_model/logistic.py:469: FutureWarning: Default multi_class will be changed to 'auto' in 0.22. Specify the multi_class option to silence this warning.\n",
      "  \"this warning.\", FutureWarning)\n",
      "/home/spark/miniconda3/lib/python3.7/site-packages/sklearn/linear_model/logistic.py:432: FutureWarning: Default solver will be changed to 'lbfgs' in 0.22. Specify a solver to silence this warning.\n",
      "  FutureWarning)\n",
      "/home/spark/miniconda3/lib/python3.7/site-packages/sklearn/utils/validation.py:724: DataConversionWarning: A column-vector y was passed when a 1d array was expected. Please change the shape of y to (n_samples, ), for example using ravel().\n",
      "  y = column_or_1d(y, warn=True)\n",
      "/home/spark/miniconda3/lib/python3.7/site-packages/sklearn/linear_model/logistic.py:469: FutureWarning: Default multi_class will be changed to 'auto' in 0.22. Specify the multi_class option to silence this warning.\n",
      "  \"this warning.\", FutureWarning)\n",
      "/home/spark/miniconda3/lib/python3.7/site-packages/sklearn/linear_model/coordinate_descent.py:475: ConvergenceWarning: Objective did not converge. You might want to increase the number of iterations. Duality gap: 1129027788.157837, tolerance: 825730785.4585551\n",
      "  positive)\n"
     ]
    },
    {
     "data": {
      "text/plain": [
       "GridSearchCV(cv='warn', error_score='raise-deprecating',\n",
       "             estimator=Pipeline(memory=None,\n",
       "                                steps=[('selector',\n",
       "                                        SelectFromModel(estimator=LogisticRegression(C=1.0,\n",
       "                                                                                     class_weight=None,\n",
       "                                                                                     dual=False,\n",
       "                                                                                     fit_intercept=True,\n",
       "                                                                                     intercept_scaling=1,\n",
       "                                                                                     l1_ratio=None,\n",
       "                                                                                     max_iter=100,\n",
       "                                                                                     multi_class='warn',\n",
       "                                                                                     n_jobs=None,\n",
       "                                                                                     penalty='l2',\n",
       "                                                                                     random_state=None,\n",
       "                                                                                     solver='warn',\n",
       "                                                                                     tol=0.0001,\n",
       "                                                                                     verbose=0,\n",
       "                                                                                     wa...\n",
       "                                        Lasso(alpha=1.0, copy_X=True,\n",
       "                                              fit_intercept=True, max_iter=1000,\n",
       "                                              normalize=False, positive=False,\n",
       "                                              precompute=False,\n",
       "                                              random_state=None,\n",
       "                                              selection='cyclic', tol=0.0001,\n",
       "                                              warm_start=False))],\n",
       "                                verbose=False),\n",
       "             iid='warn', n_jobs=None,\n",
       "             param_grid={'selector__threshold': [0.01, 0.1, 0.15, 0.3, 0.45,\n",
       "                                                 0.69]},\n",
       "             pre_dispatch='2*n_jobs', refit=True, return_train_score=False,\n",
       "             scoring=None, verbose=0)"
      ]
     },
     "execution_count": 72,
     "metadata": {},
     "output_type": "execute_result"
    }
   ],
   "source": [
    "from sklearn.model_selection import GridSearchCV\n",
    "from sklearn.pipeline import Pipeline\n",
    "from sklearn.linear_model import Lasso\n",
    "\n",
    "\n",
    "pipe = Pipeline([(\"selector\", SelectFromModel(LogisticRegression(), 0.3)), \n",
    "                 (\"model\", Lasso())])\n",
    "\n",
    "param_grid = {\"selector__threshold\": [0.01, 0.1, 0.15, 0.3, 0.45, 0.69]}\n",
    "\n",
    "gs = GridSearchCV(pipe, param_grid)\n",
    "gs.fit(X_train2, y_train2)"
   ]
  },
  {
   "cell_type": "code",
   "execution_count": 73,
   "metadata": {},
   "outputs": [
    {
     "data": {
      "text/plain": [
       "{'selector__threshold': 0.01}"
      ]
     },
     "execution_count": 73,
     "metadata": {},
     "output_type": "execute_result"
    }
   ],
   "source": [
    "gs.best_params_"
   ]
  },
  {
   "cell_type": "code",
   "execution_count": 74,
   "metadata": {},
   "outputs": [
    {
     "ename": "IndexError",
     "evalue": "only integers, slices (`:`), ellipsis (`...`), numpy.newaxis (`None`) and integer or boolean arrays are valid indices",
     "output_type": "error",
     "traceback": [
      "\u001b[0;31m---------------------------------------------------------------------------\u001b[0m",
      "\u001b[0;31mIndexError\u001b[0m                                Traceback (most recent call last)",
      "\u001b[0;32m<ipython-input-74-a3b0b34dd9fc>\u001b[0m in \u001b[0;36m<module>\u001b[0;34m\u001b[0m\n\u001b[1;32m      1\u001b[0m \u001b[0;31m# osobna obróbka dnahych testowych\u001b[0m\u001b[0;34m\u001b[0m\u001b[0;34m\u001b[0m\u001b[0;34m\u001b[0m\u001b[0m\n\u001b[1;32m      2\u001b[0m \u001b[0;34m\u001b[0m\u001b[0m\n\u001b[0;32m----> 3\u001b[0;31m \u001b[0mX_test2\u001b[0m\u001b[0;34m[\u001b[0m\u001b[0;34m'MS.SubClass'\u001b[0m\u001b[0;34m]\u001b[0m\u001b[0;34m.\u001b[0m\u001b[0mfillna\u001b[0m\u001b[0;34m(\u001b[0m\u001b[0;34m(\u001b[0m\u001b[0mX_test2\u001b[0m\u001b[0;34m[\u001b[0m\u001b[0;34m'MS.SubClass'\u001b[0m\u001b[0;34m]\u001b[0m\u001b[0;34m.\u001b[0m\u001b[0mmean\u001b[0m\u001b[0;34m(\u001b[0m\u001b[0;34m)\u001b[0m\u001b[0;34m)\u001b[0m\u001b[0;34m,\u001b[0m \u001b[0minplace\u001b[0m\u001b[0;34m=\u001b[0m\u001b[0;32mTrue\u001b[0m\u001b[0;34m)\u001b[0m\u001b[0;34m\u001b[0m\u001b[0;34m\u001b[0m\u001b[0m\n\u001b[0m\u001b[1;32m      4\u001b[0m \u001b[0mX_test2\u001b[0m\u001b[0;34m[\u001b[0m\u001b[0;34m'Lot.Frontage'\u001b[0m\u001b[0;34m]\u001b[0m\u001b[0;34m.\u001b[0m\u001b[0mfillna\u001b[0m\u001b[0;34m(\u001b[0m\u001b[0;34m(\u001b[0m\u001b[0mX_test2\u001b[0m\u001b[0;34m[\u001b[0m\u001b[0;34m'Lot.Frontage'\u001b[0m\u001b[0;34m]\u001b[0m\u001b[0;34m.\u001b[0m\u001b[0mmean\u001b[0m\u001b[0;34m(\u001b[0m\u001b[0;34m)\u001b[0m\u001b[0;34m)\u001b[0m\u001b[0;34m,\u001b[0m \u001b[0minplace\u001b[0m\u001b[0;34m=\u001b[0m\u001b[0;32mTrue\u001b[0m\u001b[0;34m)\u001b[0m\u001b[0;34m\u001b[0m\u001b[0;34m\u001b[0m\u001b[0m\n\u001b[1;32m      5\u001b[0m \u001b[0mX_test2\u001b[0m\u001b[0;34m[\u001b[0m\u001b[0;34m'Lot.Area'\u001b[0m\u001b[0;34m]\u001b[0m\u001b[0;34m.\u001b[0m\u001b[0mfillna\u001b[0m\u001b[0;34m(\u001b[0m\u001b[0;34m(\u001b[0m\u001b[0mX_test2\u001b[0m\u001b[0;34m[\u001b[0m\u001b[0;34m'Lot.Area'\u001b[0m\u001b[0;34m]\u001b[0m\u001b[0;34m.\u001b[0m\u001b[0mmean\u001b[0m\u001b[0;34m(\u001b[0m\u001b[0;34m)\u001b[0m\u001b[0;34m)\u001b[0m\u001b[0;34m,\u001b[0m \u001b[0minplace\u001b[0m\u001b[0;34m=\u001b[0m\u001b[0;32mTrue\u001b[0m\u001b[0;34m)\u001b[0m\u001b[0;34m\u001b[0m\u001b[0;34m\u001b[0m\u001b[0m\n",
      "\u001b[0;31mIndexError\u001b[0m: only integers, slices (`:`), ellipsis (`...`), numpy.newaxis (`None`) and integer or boolean arrays are valid indices"
     ]
    }
   ],
   "source": [
    "# osobna obróbka dnahych testowych\n",
    "\n",
    "X_test2['MS.SubClass'].fillna((X_test2['MS.SubClass'].mean()), inplace=True)\n",
    "X_test2['Lot.Frontage'].fillna((X_test2['Lot.Frontage'].mean()), inplace=True)\n",
    "X_test2['Lot.Area'].fillna((X_test2['Lot.Area'].mean()), inplace=True)\n",
    "X_test2['Overall.Qual'].fillna((X_test2['Overall.Qual'].mean()), inplace=True)\n",
    "X_test2['Overall.Cond'].fillna((X_test2['Overall.Cond'].mean()), inplace=True)\n",
    "X_test2['Year.Built'].fillna((X_test2['Year.Built'].mean()), inplace=True)\n",
    "\n",
    "X_test2['Year.Remod.Add'].fillna((X_test2['Year.Remod.Add'].mean()), inplace=True)\n",
    "X_test2['Mas.Vnr.Area'].fillna((X_test2['Mas.Vnr.Area'].mean()), inplace=True)\n",
    "X_test2['BsmtFin.SF.1'].fillna((X_test2['BsmtFin.SF.1'].mean()), inplace=True)\n",
    "X_test2['BsmtFin.SF.2'].fillna((X_test2['BsmtFin.SF.2'].mean()), inplace=True)\n",
    "\n",
    "X_test2['Bsmt.Unf.SF'].fillna((X_test2['Bsmt.Unf.SF'].mean()), inplace=True)\n",
    "X_test2['Total.Bsmt.SF'].fillna((X_test2['Total.Bsmt.SF'].mean()), inplace=True)\n",
    "X_test2['X1st.Flr.SF'].fillna((X_test2['X1st.Flr.SF'].mean()), inplace=True)\n",
    "X_test2['X2nd.Flr.SF'].fillna((X_test2['X2nd.Flr.SF'].mean()), inplace=True)\n",
    "\n",
    "X_test2['Low.Qual.Fin.SF'].fillna((X_test2['Low.Qual.Fin.SF'].mean()), inplace=True)\n",
    "X_test2['Gr.Liv.Area'].fillna((X_test2['Gr.Liv.Area'].mean()), inplace=True)\n",
    "X_test2['Full.Bath'].fillna((X_test2['Full.Bath'].mean()), inplace=True)\n",
    "X_test2['Half.Bath'].fillna((X_test2['Half.Bath'].mean()), inplace=True)\n",
    "\n",
    "X_test2['Bedroom.AbvGr'].fillna((X_test2['Bedroom.AbvGr'].mean()), inplace=True)\n",
    "X_test2['Kitchen.AbvGr'].fillna((X_test2['Kitchen.AbvGr'].mean()), inplace=True)\n",
    "X_test2['TotRms.AbvGrd'].fillna((X_test2['TotRms.AbvGrd'].mean()), inplace=True)\n",
    "X_test2['Fireplaces'].fillna((X_test2['Fireplaces'].mean()), inplace=True)\n",
    "\n",
    "X_test2['Garage.Yr.Blt'].fillna((X_test2['Garage.Yr.Blt'].mean()), inplace=True)\n",
    "X_test2['Garage.Area'].fillna((X_test2['Garage.Area'].mean()), inplace=True)\n",
    "X_test2['Wood.Deck.SF'].fillna((X_test2['Wood.Deck.SF'].mean()), inplace=True)\n",
    "X_test2['Open.Porch.SF'].fillna((X_test2['Open.Porch.SF'].mean()), inplace=True)\n",
    "\n",
    "X_test2['Enclosed.Porch'].fillna((X_test2['Enclosed.Porch'].mean()), inplace=True)\n",
    "X_test2['X3Ssn.Porch'].fillna((X_test2['X3Ssn.Porch'].mean()), inplace=True)\n",
    "X_test2['Screen.Porch'].fillna((X_test2['Screen.Porch'].mean()), inplace=True)\n",
    "X_test2['Pool.Area'].fillna((X_test2['Pool.Area'].mean()), inplace=True)\n",
    "\n",
    "X_test2['Misc.Val'].fillna((X_test2['Misc.Val'].mean()), inplace=True)\n",
    "X_test2['Mo.Sold'].fillna((X_test2['Mo.Sold'].mean()), inplace=True)\n",
    "X_test2['Yr.Sold'].fillna((X_test2['Yr.Sold'].mean()), inplace=True)\n",
    "\n",
    "#skalowanie danych testowych\n",
    "\n",
    "scaler = StandardScaler()\n",
    "X_test2 = scaler.fit_transform(X_test2)"
   ]
  },
  {
   "cell_type": "code",
   "execution_count": null,
   "metadata": {},
   "outputs": [],
   "source": [
    "r2_model5_grid = r2_score(y_test2,gs.predict(X_test2))\n",
    "r2_model5_grid"
   ]
  },
  {
   "cell_type": "code",
   "execution_count": null,
   "metadata": {},
   "outputs": [],
   "source": []
  },
  {
   "cell_type": "code",
   "execution_count": null,
   "metadata": {},
   "outputs": [],
   "source": []
  },
  {
   "cell_type": "code",
   "execution_count": null,
   "metadata": {},
   "outputs": [],
   "source": []
  },
  {
   "cell_type": "code",
   "execution_count": null,
   "metadata": {},
   "outputs": [],
   "source": []
  },
  {
   "cell_type": "code",
   "execution_count": null,
   "metadata": {},
   "outputs": [],
   "source": []
  }
 ],
 "metadata": {
  "kernelspec": {
   "display_name": "Python 3",
   "language": "python",
   "name": "python3"
  },
  "language_info": {
   "codemirror_mode": {
    "name": "ipython",
    "version": 3
   },
   "file_extension": ".py",
   "mimetype": "text/x-python",
   "name": "python",
   "nbconvert_exporter": "python",
   "pygments_lexer": "ipython3",
   "version": "3.7.3"
  }
 },
 "nbformat": 4,
 "nbformat_minor": 2
}
